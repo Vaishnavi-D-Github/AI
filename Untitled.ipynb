{
 "cells": [
  {
   "cell_type": "code",
   "execution_count": 13,
   "id": "b0bf1447-696e-43ab-8b6c-99a13639d977",
   "metadata": {},
   "outputs": [],
   "source": [
    "import random"
   ]
  },
  {
   "cell_type": "code",
   "execution_count": 1,
   "id": "1ff2703b-3ee3-41eb-9289-04d7d5493dca",
   "metadata": {},
   "outputs": [],
   "source": [
    "def display(room):\n",
    "    print(room)"
   ]
  },
  {
   "cell_type": "code",
   "execution_count": 3,
   "id": "001b9a48-ce67-4ed2-b3a7-07b591ca5a57",
   "metadata": {},
   "outputs": [],
   "source": [
    "room = [[1,1,1,1],\n",
    "        [1,1,1,1],\n",
    "        [1,1,1,1],\n",
    "        [1,1,1,1]]"
   ]
  },
  {
   "cell_type": "code",
   "execution_count": 7,
   "id": "925d1e91-083d-4f86-95cf-dfbe51bfdcd0",
   "metadata": {},
   "outputs": [
    {
     "name": "stdout",
     "output_type": "stream",
     "text": [
      "All the rooms are dirty\n",
      "[[1, 1, 1, 1], [1, 1, 1, 1], [1, 1, 1, 1], [1, 1, 1, 1]]\n"
     ]
    }
   ],
   "source": [
    "print(\"All the rooms are dirty\")\n",
    "display(room)"
   ]
  },
  {
   "cell_type": "code",
   "execution_count": 9,
   "id": "33be6088-d708-4c91-825e-d3e2fa34c79f",
   "metadata": {},
   "outputs": [],
   "source": [
    "x = 0\n",
    "y = 0"
   ]
  },
  {
   "cell_type": "code",
   "execution_count": 15,
   "id": "2c462392-b48d-4fc0-8ea7-fedec1476cee",
   "metadata": {},
   "outputs": [],
   "source": [
    "while x < 4:\n",
    "    while y < 4:\n",
    "        room[x][y] = random.choice([0,1])\n",
    "        y += 1\n",
    "    x += 1\n",
    "    y = 0"
   ]
  },
  {
   "cell_type": "code",
   "execution_count": 17,
   "id": "5643221f-1a91-4e22-9457-9bb6efa4dcf1",
   "metadata": {},
   "outputs": [
    {
     "name": "stdout",
     "output_type": "stream",
     "text": [
      "Before cleaning the room, I detect all these random dirts\n",
      "[[1, 1, 1, 1], [1, 1, 0, 1], [0, 0, 1, 0], [1, 1, 0, 0]]\n"
     ]
    }
   ],
   "source": [
    "print(\"Before cleaning the room, I detect all these random dirts\")\n",
    "display(room)"
   ]
  },
  {
   "cell_type": "code",
   "execution_count": 21,
   "id": "aaaad705-7579-4fb6-9b04-5abbc8ebf362",
   "metadata": {},
   "outputs": [],
   "source": [
    "x = 0\n",
    "y = 0\n",
    "z = 0"
   ]
  },
  {
   "cell_type": "code",
   "execution_count": 23,
   "id": "07ff2207-b54b-4f53-8287-05b10c84bca2",
   "metadata": {},
   "outputs": [
    {
     "name": "stdout",
     "output_type": "stream",
     "text": [
      "Vaccum in this location now: 0 0\n",
      "Cleaned: 0 0\n",
      "Vaccum in this location now: 0 1\n",
      "Cleaned: 0 1\n",
      "Vaccum in this location now: 0 2\n",
      "Cleaned: 0 2\n",
      "Vaccum in this location now: 0 3\n",
      "Cleaned: 0 3\n",
      "Vaccum in this location now: 1 0\n",
      "Cleaned: 1 0\n",
      "Vaccum in this location now: 1 1\n",
      "Cleaned: 1 1\n",
      "Vaccum in this location now: 1 3\n",
      "Cleaned: 1 3\n",
      "Vaccum in this location now: 2 2\n",
      "Cleaned: 2 2\n",
      "Vaccum in this location now: 3 0\n",
      "Cleaned: 3 0\n",
      "Vaccum in this location now: 3 1\n",
      "Cleaned: 3 1\n"
     ]
    }
   ],
   "source": [
    "while x < 4:\n",
    "    while y < 4:\n",
    "        if room[x][y] == 1:\n",
    "            print(\"Vaccum in this location now:\",x,y)\n",
    "            room[x][y] = 0\n",
    "            print(\"Cleaned:\",x, y)\n",
    "            z += 1\n",
    "        y += 1\n",
    "    x += 1\n",
    "    y = 0"
   ]
  },
  {
   "cell_type": "code",
   "execution_count": 25,
   "id": "30649c66-1b3d-42fe-ba1a-8a99a530cd9b",
   "metadata": {},
   "outputs": [
    {
     "name": "stdout",
     "output_type": "stream",
     "text": [
      "Room is clean now. Thanks for using the Robot Vacuum Cleaner!\n",
      "[[0, 0, 0, 0], [0, 0, 0, 0], [0, 0, 0, 0], [0, 0, 0, 0]]\n",
      "Performance= 37.5 %\n"
     ]
    }
   ],
   "source": [
    "performance = (100 - ((z / 16)*100))\n",
    "print(\"Room is clean now. Thanks for using the Robot Vacuum Cleaner!\")\n",
    "display(room)\n",
    "print('Performance=', performance, '%')\n"
   ]
  },
  {
   "cell_type": "code",
   "execution_count": null,
   "id": "aac85d3f-ac33-46b2-a843-f3d8f5059047",
   "metadata": {},
   "outputs": [],
   "source": []
  }
 ],
 "metadata": {
  "kernelspec": {
   "display_name": "Python [conda env:base] *",
   "language": "python",
   "name": "conda-base-py"
  },
  "language_info": {
   "codemirror_mode": {
    "name": "ipython",
    "version": 3
   },
   "file_extension": ".py",
   "mimetype": "text/x-python",
   "name": "python",
   "nbconvert_exporter": "python",
   "pygments_lexer": "ipython3",
   "version": "3.12.4"
  }
 },
 "nbformat": 4,
 "nbformat_minor": 5
}
